{
 "cells": [
  {
   "cell_type": "code",
   "execution_count": 19,
   "id": "492fa588-a7e9-4040-b4ac-8fe837602610",
   "metadata": {},
   "outputs": [],
   "source": [
    "import numpy as np\n"
   ]
  },
  {
   "cell_type": "code",
   "execution_count": 20,
   "id": "b52be27f-332d-4178-ba8c-2726cc7b4f81",
   "metadata": {},
   "outputs": [],
   "source": [
    "def crear_matriu():\n",
    "    # Crear una matriz de 3x4 con numeros aleatorios entre 0 y 80\n",
    "    matriu = np.random.randint(0, 81, size=(3, 4))\n",
    "    print(\"Matriz original de 3x4:\\n\", matriu)\n",
    "    return matriu\n"
   ]
  },
  {
   "cell_type": "code",
   "execution_count": 21,
   "id": "0bf64857-0e68-44aa-8534-a684f7c37c96",
   "metadata": {},
   "outputs": [],
   "source": [
    "def modificar_matriu(matriu):\n",
    "    # Cambiar la matriz a 4x3\n",
    "    matriu_modificada = matriu.T  #T = trasponer\n",
    "    print(\"\\nMatriz modificada a 4x3:\\n\", matriu_modificada)\n",
    "    \n",
    "    # giro de columnas 2 y 3 \n",
    "    ultima_columna = matriu_modificada[:, -1]\n",
    "    matriu_modificada = np.delete(matriu_modificada, -1, axis=1)  # Eliminar la ultima columna\n",
    "    matriu_modificada = np.insert(matriu_modificada, -1, ultima_columna, axis=1)  # Insertar como ultima columna\n",
    "    \n",
    "    print(\"\\nGiro de ultimas dos columnas:\\n\", matriu_modificada)\n",
    "    \n",
    "    return matriu_modificada\n"
   ]
  },
  {
   "cell_type": "code",
   "execution_count": 22,
   "id": "0c15d00e-7b95-402f-8264-25e9154e93cd",
   "metadata": {},
   "outputs": [],
   "source": [
    "def modificar_ultima_columna(matriu):\n",
    "    # Copiar numero 4ta columna\n",
    "    valor_columna = matriu[:, -1][0]\n",
    "    matriu[:, -1] = valor_columna  # Asignar el mismo valor a toda la ultima columna\n",
    "    \n",
    "    print(\"\\nÚltima columna modificada:\\n\", matriu)\n",
    "    \n",
    "    return matriu\n"
   ]
  },
  {
   "cell_type": "code",
   "execution_count": 23,
   "id": "3a726fe8-27b9-4924-a07a-8fb13dce4cae",
   "metadata": {},
   "outputs": [],
   "source": [
    "def main():\n",
    "    # Crear la matriz original\n",
    "    matriu = crear_matriu()\n",
    "    \n",
    "    # Modificar la matriz\n",
    "    matriu_modificada = modificar_matriu(matriu)\n",
    "    \n",
    "    # Modificar la ultima columna\n",
    "    matriu_final = modificar_ultima_columna(matriu_modificada)\n"
   ]
  },
  {
   "cell_type": "code",
   "execution_count": 24,
   "id": "8a4c51e1-19b6-4f1d-9790-7557efacdec6",
   "metadata": {},
   "outputs": [
    {
     "name": "stdout",
     "output_type": "stream",
     "text": [
      "Matriz original de 3x4:\n",
      " [[74 18 43 30]\n",
      " [ 0 51  5 33]\n",
      " [14 76 46 24]]\n",
      "\n",
      "Matriz modificada a 4x3:\n",
      " [[74  0 14]\n",
      " [18 51 76]\n",
      " [43  5 46]\n",
      " [30 33 24]]\n",
      "\n",
      "Giro de ultimas dos columnas:\n",
      " [[74 14  0]\n",
      " [18 76 51]\n",
      " [43 46  5]\n",
      " [30 24 33]]\n",
      "\n",
      "Última columna modificada:\n",
      " [[74 14  0]\n",
      " [18 76  0]\n",
      " [43 46  0]\n",
      " [30 24  0]]\n"
     ]
    }
   ],
   "source": [
    "if __name__ == \"__main__\":\n",
    "    main()\n",
    "#llamar funcion"
   ]
  },
  {
   "cell_type": "code",
   "execution_count": null,
   "id": "88317836-15c3-4907-964e-4c170ac59cd8",
   "metadata": {},
   "outputs": [],
   "source": []
  }
 ],
 "metadata": {
  "kernelspec": {
   "display_name": "Python 3 (ipykernel)",
   "language": "python",
   "name": "python3"
  },
  "language_info": {
   "codemirror_mode": {
    "name": "ipython",
    "version": 3
   },
   "file_extension": ".py",
   "mimetype": "text/x-python",
   "name": "python",
   "nbconvert_exporter": "python",
   "pygments_lexer": "ipython3",
   "version": "3.12.6"
  }
 },
 "nbformat": 4,
 "nbformat_minor": 5
}
