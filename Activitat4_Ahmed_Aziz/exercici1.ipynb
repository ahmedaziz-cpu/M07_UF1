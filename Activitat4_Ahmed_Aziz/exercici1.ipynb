{
 "cells": [
  {
   "cell_type": "code",
   "execution_count": 19,
   "id": "d4fc351a-d095-435f-8087-67e8c1942344",
   "metadata": {},
   "outputs": [],
   "source": [
    "import numpy as np\n",
    "#importamos biblioteca numpy"
   ]
  },
  {
   "cell_type": "code",
   "execution_count": 20,
   "id": "dba7fe45-2986-47f7-bf58-9c74b7ec8695",
   "metadata": {},
   "outputs": [],
   "source": [
    "def matriz_diagonal():\n",
    "    # Creamos una matriz de ceros de 7 filas y 7 columnas\n",
    "    matriz = np.zeros((7, 7), dtype=int)\n",
    "    \n",
    "    # Llenamos la diagonal con números del 7 al 49 (sumando de 7 en 7)\n",
    "    np.fill_diagonal(matriz, np.arange(7, 50, 7))\n",
    "    \n",
    "    return matriz\n"
   ]
  },
  {
   "cell_type": "code",
   "execution_count": 21,
   "id": "b79d5b28-c4af-449e-9ef2-e2397ca2babf",
   "metadata": {},
   "outputs": [],
   "source": [
    "def info_matriz(matriz):\n",
    "    #  matriz\n",
    "    print(\"Matriz:\")\n",
    "    for fila in matriz:\n",
    "        print(fila)  # Imprimir cada fila de la matriz\n",
    "\n",
    "    # Dimension\n",
    "    print(\"\\nDimensión de la matriz:\", matriz.shape)\n",
    "    \n",
    "    # tamaño(número de elementos)\n",
    "    print(\"Tamaño de la matriz:\", matriz.size)\n",
    "    \n",
    "    # elementos de la matriz\n",
    "    print(\"Tipo de elementos internos:\", matriz.dtype)\n"
   ]
  },
  {
   "cell_type": "code",
   "execution_count": 22,
   "id": "c0bf576e-3d5a-44c1-b803-47aac472d4b6",
   "metadata": {},
   "outputs": [
    {
     "name": "stdout",
     "output_type": "stream",
     "text": [
      "Matriz:\n",
      "[7 0 0 0 0 0 0]\n",
      "[ 0 14  0  0  0  0  0]\n",
      "[ 0  0 21  0  0  0  0]\n",
      "[ 0  0  0 28  0  0  0]\n",
      "[ 0  0  0  0 35  0  0]\n",
      "[ 0  0  0  0  0 42  0]\n",
      "[ 0  0  0  0  0  0 49]\n",
      "\n",
      "Dimensión de la matriz: (7, 7)\n",
      "Tamaño de la matriz: 49\n",
      "Tipo de elementos internos: int64\n"
     ]
    }
   ],
   "source": [
    "def main():\n",
    "    # Crear la matriz\n",
    "    matriz = matriz_diagonal()\n",
    "    \n",
    "    # Mostrar la información de la matriz\n",
    "    info_matriz(matriz)\n",
    "\n",
    "# Llamar a la función main\n",
    "main()\n"
   ]
  },
  {
   "cell_type": "code",
   "execution_count": null,
   "id": "a5c293d7-25af-41a1-84cf-7fc17c6c444c",
   "metadata": {},
   "outputs": [],
   "source": []
  },
  {
   "cell_type": "code",
   "execution_count": null,
   "id": "550bfc15-6530-49c0-897c-456c567b875f",
   "metadata": {},
   "outputs": [],
   "source": []
  }
 ],
 "metadata": {
  "kernelspec": {
   "display_name": "Python 3 (ipykernel)",
   "language": "python",
   "name": "python3"
  },
  "language_info": {
   "codemirror_mode": {
    "name": "ipython",
    "version": 3
   },
   "file_extension": ".py",
   "mimetype": "text/x-python",
   "name": "python",
   "nbconvert_exporter": "python",
   "pygments_lexer": "ipython3",
   "version": "3.12.6"
  }
 },
 "nbformat": 4,
 "nbformat_minor": 5
}
