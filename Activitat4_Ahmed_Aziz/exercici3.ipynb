{
 "cells": [
  {
   "cell_type": "code",
   "execution_count": 9,
   "id": "caf082e1-9020-4ec7-8689-10f413b12dd2",
   "metadata": {},
   "outputs": [],
   "source": [
    "import numpy as np\n",
    "\n"
   ]
  },
  {
   "cell_type": "code",
   "execution_count": 10,
   "id": "3ab43a60-9e2c-480c-a24f-0e8760f785c3",
   "metadata": {},
   "outputs": [],
   "source": [
    "def generar_matriu():\n",
    "    # Pedir las columas y filas de la matriz al usuario\n",
    "    rows = int(input(\"Introduce el número de filas: \"))\n",
    "    cols = int(input(\"Introduce el número de columnas: \"))\n",
    "    \n",
    "    # Generar una matriz aleatoria de 0 a 100\n",
    "    matriu = np.random.randint(0, 101, size=(rows, cols))\n",
    "    \n",
    "    return matriu\n",
    "\n",
    "def mostrar_matriu(matriu):\n",
    "    print(\"Matriz generada:\\n\", matriu)\n",
    "    \n",
    "def valor_maxim(matriu):\n",
    "    max_value = np.max(matriu)\n",
    "    print(\"Valor màxim:\", max_value)\n",
    "    \n",
    "def valor_minim(matriu):\n",
    "    min_value = np.min(matriu)\n",
    "    print(\"Valor mínim:\", min_value)\n",
    "\n",
    "def redimensionar_matriu(matriu):\n",
    "    # columna y fila al usuario\n",
    "    new_rows = int(input(\"Introduce el nuevo número de filas: \"))\n",
    "    new_cols = int(input(\"Introduce el nuevo número de columnas: \"))\n",
    "    \n",
    "    # Redimensionar la matriz\n",
    "    matriu_redimensionada = matriu.reshape(new_rows, new_cols)\n",
    "    \n",
    "    print(\"Matriz redimensionada:\\n\", matriu_redimensionada)\n",
    "    \n",
    "    return matriu_redimensionada\n"
   ]
  },
  {
   "cell_type": "code",
   "execution_count": 11,
   "id": "ca8eabbf-4768-467a-8ba5-60c23b9cdea0",
   "metadata": {},
   "outputs": [
    {
     "name": "stdin",
     "output_type": "stream",
     "text": [
      "Introduce el número de filas:  2\n",
      "Introduce el número de columnas:  2\n"
     ]
    },
    {
     "name": "stdout",
     "output_type": "stream",
     "text": [
      "Matriz generada:\n",
      " [[93 50]\n",
      " [94 20]]\n",
      "Valor màxim: 94\n",
      "Valor mínim: 20\n"
     ]
    },
    {
     "name": "stdin",
     "output_type": "stream",
     "text": [
      "Introduce el nuevo número de filas:  2\n",
      "Introduce el nuevo número de columnas:  2\n"
     ]
    },
    {
     "name": "stdout",
     "output_type": "stream",
     "text": [
      "Matriz redimensionada:\n",
      " [[93 50]\n",
      " [94 20]]\n"
     ]
    }
   ],
   "source": [
    "def main():\n",
    "    # Generar la matriz\n",
    "    matriu = generar_matriu()\n",
    "    \n",
    "    # Mostrar la matriz\n",
    "    mostrar_matriu(matriu)\n",
    "    \n",
    "    # Mostrar el valor máximo\n",
    "    valor_maxim(matriu)\n",
    "    \n",
    "    # Mostrar el valor mínimo\n",
    "    valor_minim(matriu)\n",
    "    \n",
    "    # Redimensionar la matriz\n",
    "    matriu_redimensionada = redimensionar_matriu(matriu)\n",
    "\n",
    "# Llamar a la función principal\n",
    "main()\n"
   ]
  },
  {
   "cell_type": "code",
   "execution_count": null,
   "id": "4c666af9-7c22-4c1a-b9ec-d0f79a592d03",
   "metadata": {},
   "outputs": [],
   "source": []
  }
 ],
 "metadata": {
  "kernelspec": {
   "display_name": "Python 3 (ipykernel)",
   "language": "python",
   "name": "python3"
  },
  "language_info": {
   "codemirror_mode": {
    "name": "ipython",
    "version": 3
   },
   "file_extension": ".py",
   "mimetype": "text/x-python",
   "name": "python",
   "nbconvert_exporter": "python",
   "pygments_lexer": "ipython3",
   "version": "3.12.6"
  }
 },
 "nbformat": 4,
 "nbformat_minor": 5
}
