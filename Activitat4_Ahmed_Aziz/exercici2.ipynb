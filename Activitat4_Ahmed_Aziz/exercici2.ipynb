{
 "cells": [
  {
   "cell_type": "code",
   "execution_count": 78,
   "id": "bc1c021d-0549-4971-91ab-d0139a6e1a9b",
   "metadata": {},
   "outputs": [],
   "source": [
    "import numpy as np"
   ]
  },
  {
   "cell_type": "code",
   "execution_count": 79,
   "id": "4f48b37b-cbd0-4d17-b2c7-b835819e7db9",
   "metadata": {},
   "outputs": [],
   "source": [
    "# función que crea los arrays\n",
    "def crear_arrays():\n",
    "    # Creamos el primer array con algunos números\n",
    "    array1 = np.array([88, 23, 39, 41])\n",
    "    \n",
    "    # Creamos el segundo array con dos listas diferentes\n",
    "    array2 = np.array([[76.4, 76.5], [34.4, 45.6]])\n",
    "    \n",
    "    # Creamos un tercer array con cuatro números en vertical,No he podido meterlos todos en  un solo  []\n",
    "    array3 = np.array([[1], [2], [3], [4]])\n",
    "    \n",
    "    # Devolvemos todos los arrays que hemos creado\n",
    "    return array1, array2, array3\n"
   ]
  },
  {
   "cell_type": "code",
   "execution_count": 80,
   "id": "de35d274-c13c-4758-bbff-bdce3c6c7049",
   "metadata": {},
   "outputs": [],
   "source": [
    "# información de los arrays\n",
    "def info_arrays(arrays):\n",
    "    # Recorrer cada array\n",
    "    for a, array in enumerate(arrays, start=1):\n",
    "        # Mostrar el array\n",
    "        print(f\"Array {a}:\\n\", array)  \n",
    "        \n",
    "        #  Número de elementos\n",
    "        print(\"Número total d'elements:\", array.size)  \n",
    "        \n",
    "        # La dimensión del array\n",
    "        print(\"Dimensió de l'array:\", array.shape)  \n",
    "        \n",
    "        # Tipo de elementos internos\n",
    "        print(\"Tipus d’elements interns:\", array.dtype)  \n",
    "        \n",
    "        # Mostrar el tamaño del array\n",
    "        print(\"Tamany de l'array:\", array.size)  \n",
    "        print(\"\\n\")  # Añadir un salto de línea entre arrays\n"
   ]
  },
  {
   "cell_type": "code",
   "execution_count": 81,
   "id": "1f9d2d3a-a73f-4606-a7a7-1da778adde49",
   "metadata": {},
   "outputs": [
    {
     "name": "stdout",
     "output_type": "stream",
     "text": [
      "Array 1:\n",
      " [88 23 39 41]\n",
      "Número total d'elements: 4\n",
      "Dimensió de l'array: (4,)\n",
      "Tipus d’elements interns: int64\n",
      "Tamany de l'array: 4\n",
      "\n",
      "\n",
      "Array 2:\n",
      " [[76.4 76.5]\n",
      " [34.4 45.6]]\n",
      "Número total d'elements: 4\n",
      "Dimensió de l'array: (2, 2)\n",
      "Tipus d’elements interns: float64\n",
      "Tamany de l'array: 4\n",
      "\n",
      "\n",
      "Array 3:\n",
      " [[1]\n",
      " [2]\n",
      " [3]\n",
      " [4]]\n",
      "Número total d'elements: 4\n",
      "Dimensió de l'array: (4, 1)\n",
      "Tipus d’elements interns: int64\n",
      "Tamany de l'array: 4\n",
      "\n",
      "\n"
     ]
    }
   ],
   "source": [
    "# Definir la función principal\n",
    "def main():\n",
    "    # Crear los arrays llamando a la función\n",
    "    arrays = crear_arrays()  \n",
    "    \n",
    "    # Mostrar la información de los arrays\n",
    "    info_arrays(arrays)  \n",
    "\n",
    "# Verificar si estamos ejecutando este archivo directamente\n",
    "if __name__ == \"__main__\":\n",
    "    main()  \n"
   ]
  },
  {
   "cell_type": "code",
   "execution_count": null,
   "id": "4186881d-4832-45f2-96eb-90fb67053ebe",
   "metadata": {},
   "outputs": [],
   "source": [
    "\n"
   ]
  },
  {
   "cell_type": "code",
   "execution_count": null,
   "id": "ccce1aa1-f043-4a6e-8c7b-f1a5592c969a",
   "metadata": {},
   "outputs": [],
   "source": []
  },
  {
   "cell_type": "code",
   "execution_count": null,
   "id": "b736bd6f-b0bd-42bb-8321-2d22786443ff",
   "metadata": {},
   "outputs": [],
   "source": []
  }
 ],
 "metadata": {
  "kernelspec": {
   "display_name": "Python 3 (ipykernel)",
   "language": "python",
   "name": "python3"
  },
  "language_info": {
   "codemirror_mode": {
    "name": "ipython",
    "version": 3
   },
   "file_extension": ".py",
   "mimetype": "text/x-python",
   "name": "python",
   "nbconvert_exporter": "python",
   "pygments_lexer": "ipython3",
   "version": "3.12.6"
  }
 },
 "nbformat": 4,
 "nbformat_minor": 5
}
